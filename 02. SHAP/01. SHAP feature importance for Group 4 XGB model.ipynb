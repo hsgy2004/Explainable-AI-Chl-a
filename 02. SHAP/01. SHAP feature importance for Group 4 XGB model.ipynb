{
 "cells": [
  {
   "cell_type": "code",
   "execution_count": null,
   "id": "5204dbc8",
   "metadata": {},
   "outputs": [],
   "source": [
    "# === Load saved XGB model + scaler, compute SHAP feature importance (no plots) ===\n",
    "import pickle\n",
    "import numpy as np\n",
    "import pandas as pd\n",
    "import shap\n",
    "import xgboost as xgb  # required so pickle can deserialize XGBRegressor\n",
    "from sklearn.preprocessing import MinMaxScaler, StandardScaler, RobustScaler  # for type checking (optional)"
   ]
  },
  {
   "cell_type": "code",
   "execution_count": null,
   "id": "f6b5ebba",
   "metadata": {},
   "outputs": [],
   "source": [
    "# 0) Paths (edit as needed)\n",
    "# -------------------------\n",
    "model_path = r\"C:/Users/hangang/Desktop/best_xgb_model_full.pkl\"\n",
    "data_path  = r\"C:/Users/hangang/Desktop/01_data_full.csv\"\n",
    "out_path   = r\"C:/Users/hangang/Desktop/feature_importance_full.csv\""
   ]
  },
  {
   "cell_type": "code",
   "execution_count": null,
   "id": "d4fb9762",
   "metadata": {},
   "outputs": [],
   "source": [
    "# 1) Load saved object\n",
    "#    - Expected: dict with keys {\"model\",\"scaler\",\"features\"} (as in our training templates)\n",
    "#    - Fallback: raw model only -> we raise a clear error (scaler is required)\n",
    "# -------------------------\n",
    "with open(model_path, \"rb\") as f:\n",
    "    obj = pickle.load(f)\n",
    "\n",
    "if isinstance(obj, dict) and \"model\" in obj:\n",
    "    model   = obj[\"model\"]\n",
    "    scaler  = obj.get(\"scaler\", None)\n",
    "    columns_saved = obj.get(\"features\", None)\n",
    "else:\n",
    "    # Raw model without scaler — not allowed per your requirement (auto-load scaler)\n",
    "    raise ValueError(\n",
    "        \"The saved file does not contain a scaler. Please save the model together with the scaler \"\n",
    "        \"({'model','scaler','features'}) during training.\"\n",
    "    )\n",
    "\n",
    "if scaler is None:\n",
    "    raise ValueError(\"No scaler found in the saved artifact. Unable to transform X consistently.\")"
   ]
  },
  {
   "cell_type": "code",
   "execution_count": null,
   "id": "1e47fde2",
   "metadata": {},
   "outputs": [],
   "source": [
    "# 2) Load data and align columns (if feature list was saved)\n",
    "# -------------------------\n",
    "df = pd.read_csv(data_path, encoding=\"utf-8\")\n",
    "if \"Chl-a\" not in df.columns:\n",
    "    raise KeyError(\"'Chl-a' column not found in the CSV.\")\n",
    "\n",
    "X = df.drop(\"Chl-a\", axis=1)\n",
    "\n",
    "# If features list was saved, align order and subset to those features\n",
    "if columns_saved is not None:\n",
    "    missing = [c for c in columns_saved if c not in X.columns]\n",
    "    if missing:\n",
    "        raise ValueError(f\"The following features expected by the model are missing in the CSV: {missing}\")\n",
    "    X = X[columns_saved]\n",
    "    feature_names = columns_saved\n",
    "else:\n",
    "    feature_names = X.columns.tolist()"
   ]
  },
  {
   "cell_type": "code",
   "execution_count": null,
   "id": "047831af",
   "metadata": {},
   "outputs": [],
   "source": [
    "# 3) Transform with the saved (fitted) scaler\n",
    "# -------------------------\n",
    "try:\n",
    "    X_scaled = scaler.transform(X)\n",
    "except Exception as e:\n",
    "    raise RuntimeError(\n",
    "        \"Failed to transform with the saved scaler. \"\n",
    "        \"Ensure the scaler in the pickle was already fitted during training.\"\n",
    "    ) from e"
   ]
  },
  {
   "cell_type": "code",
   "execution_count": null,
   "id": "0743327e",
   "metadata": {},
   "outputs": [],
   "source": [
    "# 4) SHAP values and Mean(|SHAP|) importance\n",
    "# -------------------------\n",
    "explainer = shap.TreeExplainer(model)\n",
    "shap_values = explainer.shap_values(X_scaled, check_additivity=False)  # ndarray: (n_samples, n_features)\n",
    "\n",
    "importance = np.mean(np.abs(shap_values), axis=0)  # shape: (n_features,)\n",
    "importance_df = pd.DataFrame({\"feature\": feature_names, \"importance\": importance}) \\\n",
    "                  .sort_values(\"importance\", ascending=False)"
   ]
  },
  {
   "cell_type": "code",
   "execution_count": null,
   "id": "40738cf4",
   "metadata": {},
   "outputs": [],
   "source": [
    "# 5) Save importance\n",
    "# -------------------------\n",
    "importance_df.to_csv(out_path, index=False)\n",
    "print(f\"SHAP feature importance saved to:\\n{out_path}\")"
   ]
  },
  {
   "cell_type": "code",
   "execution_count": null,
   "id": "83b09ebf",
   "metadata": {},
   "outputs": [],
   "source": []
  },
  {
   "cell_type": "code",
   "execution_count": null,
   "id": "335ade1a",
   "metadata": {},
   "outputs": [],
   "source": []
  },
  {
   "cell_type": "code",
   "execution_count": null,
   "id": "1cbdba3f",
   "metadata": {},
   "outputs": [],
   "source": []
  },
  {
   "cell_type": "code",
   "execution_count": null,
   "id": "728df2d2",
   "metadata": {},
   "outputs": [],
   "source": []
  },
  {
   "cell_type": "code",
   "execution_count": null,
   "id": "e25061b1",
   "metadata": {},
   "outputs": [],
   "source": []
  }
 ],
 "metadata": {
  "kernelspec": {
   "display_name": "Python (myenv)",
   "language": "python",
   "name": "myenv"
  },
  "language_info": {
   "codemirror_mode": {
    "name": "ipython",
    "version": 3
   },
   "file_extension": ".py",
   "mimetype": "text/x-python",
   "name": "python",
   "nbconvert_exporter": "python",
   "pygments_lexer": "ipython3",
   "version": "3.6.13"
  }
 },
 "nbformat": 4,
 "nbformat_minor": 5
}
