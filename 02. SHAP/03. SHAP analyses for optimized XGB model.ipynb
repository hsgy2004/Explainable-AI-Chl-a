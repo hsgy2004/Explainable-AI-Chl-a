{
 "cells": [
  {
   "cell_type": "code",
   "execution_count": 35,
   "id": "9e139afd",
   "metadata": {},
   "outputs": [],
   "source": [
    "import shap\n",
    "import pickle\n",
    "import xgboost as xgb\n",
    "import pandas as pd\n",
    "import numpy as np\n",
    "import matplotlib.pyplot as plt\n",
    "from sklearn.model_selection import train_test_split\n",
    "from pdpbox import pdp, info_plots\n",
    "import os"
   ]
  },
  {
   "cell_type": "code",
   "execution_count": null,
   "id": "ce881baf",
   "metadata": {},
   "outputs": [],
   "source": [
    "# saving folder\n",
    "save_dir = \"C:/Users/hangang/Desktop/sci/02. LC-OCD for algal bloom/4_그림 모음/optimalXGBSHAP\"\n",
    "os.makedirs(save_dir, exist_ok=True)"
   ]
  },
  {
   "cell_type": "code",
   "execution_count": null,
   "id": "dc38b224",
   "metadata": {},
   "outputs": [],
   "source": [
    "# ✅ 1. model load\n",
    "model_path = \"C:/Users/hangang/Desktop/sci/02. LC-OCD for algal bloom/3_모델 개발 중/best_xgb_model_19_features.pkl\"\n",
    "with open(model_path, 'rb') as f:\n",
    "    model = pickle.load(f)\n",
    "\n",
    "print(f\"✅ 모델 로드 완료: {model_path}\")"
   ]
  },
  {
   "cell_type": "code",
   "execution_count": null,
   "id": "d1d4a04a",
   "metadata": {},
   "outputs": [],
   "source": [
    "# ✅ 2. data load\n",
    "data_path = \"C:/Users/hangang/Desktop/sci/02. LC-OCD for algal bloom/1_raw data/01_data_full.csv\"\n",
    "data = pd.read_csv(data_path, encoding='utf-8')"
   ]
  },
  {
   "cell_type": "code",
   "execution_count": null,
   "id": "ba2b4c11",
   "metadata": {},
   "outputs": [],
   "source": [
    "# ✅ 3. Selecting top 19 features\n",
    "shap_top_features = [\n",
    "    'TN', 'NO3-N', 'BOD', 'BODTOC ratio', 'Molecularity', 'SR', 'TOC', 'WT', 'DO', 'SS',\n",
    "    'HS-N', 'NH3-N', 'HS', 'COD', 'PO4-P', 'pH', 'S275-295', 'Aromaticity', 'EC'\n",
    "]\n",
    "\n",
    "X = data[shap_top_features]\n",
    "y = data['Chl-a']"
   ]
  },
  {
   "cell_type": "code",
   "execution_count": 40,
   "id": "b38af510",
   "metadata": {},
   "outputs": [],
   "source": [
    "# ✅ 4. Train-Test Split\n",
    "X_train, X_test, y_train, y_test = train_test_split(X, y, test_size=0.3, random_state=42)\n"
   ]
  },
  {
   "cell_type": "code",
   "execution_count": null,
   "id": "b42ccf86",
   "metadata": {},
   "outputs": [],
   "source": [
    "# ✅ 4. TreeSHAP\n",
    "explainer = shap.TreeExplainer(model)\n",
    "shap_values = explainer(X)"
   ]
  },
  {
   "cell_type": "code",
   "execution_count": null,
   "id": "30f05045",
   "metadata": {},
   "outputs": [],
   "source": [
    "# ✅ SHAP Summary Plot (dot)\n",
    "plt.figure(figsize=(10, 6))\n",
    "shap.summary_plot(shap_values, X, show=False)\n",
    "plt.tight_layout()\n",
    "plt.savefig(os.path.join(save_dir, \"shap_summary_dot.png\"), dpi=300)\n",
    "plt.show()"
   ]
  },
  {
   "cell_type": "code",
   "execution_count": null,
   "id": "a3b0df6c",
   "metadata": {},
   "outputs": [],
   "source": [
    "# ✅ SHAP Summary Plot (bar)\n",
    "plt.figure(figsize=(10, 6))\n",
    "shap.summary_plot(shap_values, X, plot_type=\"bar\", show=False)\n",
    "plt.tight_layout()\n",
    "plt.savefig(os.path.join(save_dir, \"shap_summary_bar.png\"), dpi=300)\n",
    "plt.show()"
   ]
  },
  {
   "cell_type": "code",
   "execution_count": null,
   "id": "26239443",
   "metadata": {},
   "outputs": [],
   "source": [
    "# ✅ SHAP dependence plot(6 top variables from optimized xgb model shap analysis)\n",
    "top6_features = ['TN', 'TOC', 'BODTOC ratio', 'SR', 'BOD', 'Molecularity']\n",
    "num_features = len(top6_features)\n",
    "num_cols = 3\n",
    "num_rows = (num_features + num_cols - 1) // num_cols\n",
    "\n",
    "fig, axes = plt.subplots(num_rows, num_cols, figsize=(18, num_rows * 5))\n",
    "axes = axes.flatten()\n",
    "\n",
    "for i, feature in enumerate(top6_features):\n",
    "    shap.dependence_plot(feature, shap_values.values, X, ax=axes[i], interaction_index=None, show=False)\n",
    "    axes[i].tick_params(axis='both', which='major', labelsize=14)\n",
    "    axes[i].set_xlabel(feature, fontsize=16)\n",
    "    axes[i].set_ylabel(\"SHAP value\", fontsize=16)\n",
    "\n",
    "# 빈 plot 제거\n",
    "for j in range(i + 1, len(axes)):\n",
    "    fig.delaxes(axes[j])\n",
    "\n",
    "fig.suptitle(\"SHAP Partial Dependence Plots (Top 6 Features)\", fontsize=20)\n",
    "plt.tight_layout(rect=[0, 0.03, 1, 0.95])\n",
    "plt.savefig(os.path.join(save_dir, \"shap_dependence_top6_allinone.png\"), dpi=300)\n",
    "plt.show()"
   ]
  },
  {
   "cell_type": "code",
   "execution_count": null,
   "id": "60b1a27a",
   "metadata": {},
   "outputs": [],
   "source": []
  }
 ],
 "metadata": {
  "kernelspec": {
   "display_name": "Python (myenv)",
   "language": "python",
   "name": "myenv"
  },
  "language_info": {
   "codemirror_mode": {
    "name": "ipython",
    "version": 3
   },
   "file_extension": ".py",
   "mimetype": "text/x-python",
   "name": "python",
   "nbconvert_exporter": "python",
   "pygments_lexer": "ipython3",
   "version": "3.6.13"
  }
 },
 "nbformat": 4,
 "nbformat_minor": 5
}
