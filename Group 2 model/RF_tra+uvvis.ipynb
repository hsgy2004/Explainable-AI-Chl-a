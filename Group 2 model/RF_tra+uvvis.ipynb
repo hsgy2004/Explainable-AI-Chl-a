{
 "cells": [
  {
   "cell_type": "code",
   "execution_count": null,
   "id": "03297465",
   "metadata": {},
   "outputs": [],
   "source": [
    "import numpy as np\n",
    "import random\n",
    "import pandas as pd\n",
    "from hyperopt import fmin, tpe, hp, STATUS_OK, Trials, space_eval\n",
    "from sklearn.model_selection import train_test_split, KFold, cross_val_score\n",
    "from sklearn.metrics import (\n",
    "    r2_score, mean_squared_error, mean_absolute_error,\n",
    "    mean_absolute_percentage_error, mean_squared_log_error\n",
    ")\n",
    "from sklearn.preprocessing import StandardScaler, MinMaxScaler, RobustScaler\n",
    "from sklearn.ensemble import RandomForestRegressor\n",
    "import pickle"
   ]
  },
  {
   "cell_type": "code",
   "execution_count": null,
   "id": "9774aeaa",
   "metadata": {},
   "outputs": [],
   "source": [
    "# 0) Reproducibility\n",
    "random_seed = 42\n",
    "np.random.seed(random_seed)\n",
    "random.seed(random_seed)\n",
    "rng = np.random.default_rng(random_seed)"
   ]
  },
  {
   "cell_type": "code",
   "execution_count": null,
   "id": "e575c1f6",
   "metadata": {},
   "outputs": [],
   "source": [
    "# 1) Data load\n",
    "# NOTE: change the path to your actual CSV\n",
    "\n",
    "Data = pd.read_csv('C:/Users/hangang/Desktop/Group 2_data_tra_uvvis.csv', encoding='utf-8')\n",
    "X = Data.drop('Chl-a', axis=1)\n",
    "y = Data['Chl-a']"
   ]
  },
  {
   "cell_type": "code",
   "execution_count": null,
   "id": "b9744bd4",
   "metadata": {},
   "outputs": [],
   "source": [
    "# 2) Train/Test Split\n",
    "X_train, X_test, y_train, y_test = train_test_split(X, y, test_size=0.3, random_state=random_seed)"
   ]
  },
  {
   "cell_type": "code",
   "execution_count": null,
   "id": "29fb1850",
   "metadata": {},
   "outputs": [],
   "source": [
    "# 3) Metrics Helper\n",
    "def calculate_metrics(y_true, y_pred):\n",
    "    r2 = r2_score(y_true, y_pred)\n",
    "    rmse = np.sqrt(mean_squared_error(y_true, y_pred))\n",
    "    mae = mean_absolute_error(y_true, y_pred)\n",
    "    mse = mean_squared_error(y_true, y_pred)\n",
    "    mape = mean_absolute_percentage_error(y_true, y_pred)\n",
    "    rmsle = np.sqrt(mean_squared_log_error(y_true, y_pred))\n",
    "    return r2, rmse, mae, mse, mape, rmsle"
   ]
  },
  {
   "cell_type": "code",
   "execution_count": null,
   "id": "230ed0cc",
   "metadata": {},
   "outputs": [],
   "source": [
    "# 4) Search Space\n",
    "scalers = [StandardScaler(), MinMaxScaler(), RobustScaler()]\n",
    "space = {\n",
    "    'scaler': hp.choice('scaler', scalers),\n",
    "    'n_estimators': hp.quniform('n_estimators', 50, 100, 2),\n",
    "    'max_depth': hp.quniform('max_depth', 3, 20, 1),\n",
    "    'min_samples_split': hp.quniform('min_samples_split', 2, 10, 1),\n",
    "    'min_samples_leaf': hp.quniform('min_samples_leaf', 1, 10, 1)\n",
    "}"
   ]
  },
  {
   "cell_type": "code",
   "execution_count": null,
   "id": "a8c139a9",
   "metadata": {},
   "outputs": [],
   "source": [
    "# 5) Objective for TPE\n",
    "# (KFold CV on scaled features)\n",
    "\n",
    "def objective(params):\n",
    "    scaler = params['scaler']\n",
    "    n_estimators = int(params['n_estimators'])\n",
    "    max_depth = int(params['max_depth'])\n",
    "    min_samples_split = int(params['min_samples_split'])\n",
    "    min_samples_leaf = int(params['min_samples_leaf'])\n",
    "\n",
    "    X_train_scaled = scaler.fit_transform(X_train)\n",
    "\n",
    "    model = RandomForestRegressor(\n",
    "        n_estimators=n_estimators,\n",
    "        max_depth=max_depth,\n",
    "        min_samples_split=min_samples_split,\n",
    "        min_samples_leaf=min_samples_leaf,\n",
    "        random_state=random_seed,\n",
    "        n_jobs=-1,\n",
    "    )\n",
    "\n",
    "    kf = KFold(n_splits=3, shuffle=True, random_state=random_seed)\n",
    "    cv_scores = cross_val_score(\n",
    "        model, X_train_scaled, y_train, cv=kf, scoring='neg_mean_squared_error'\n",
    "    )\n",
    "    mean_mse = -float(np.mean(cv_scores))\n",
    "    return {'loss': mean_mse, 'status': STATUS_OK}"
   ]
  },
  {
   "cell_type": "code",
   "execution_count": null,
   "id": "3735cb4c",
   "metadata": {},
   "outputs": [],
   "source": [
    "# 6) Hyperparameter Optimization\n",
    "\n",
    "trials = Trials()\n",
    "best = fmin(\n",
    "    fn=objective,\n",
    "    space=space,\n",
    "    algo=tpe.suggest,\n",
    "    max_evals=200,\n",
    "    trials=trials,\n",
    "    rstate=rng\n",
    ")\n",
    "best_params = space_eval(space, best)\n",
    "\n",
    "best_scaler = best_params['scaler']\n",
    "best_n_estimators = int(best_params['n_estimators'])\n",
    "best_max_depth = int(best_params['max_depth'])\n",
    "best_min_samples_split = int(best_params['min_samples_split'])\n",
    "best_min_samples_leaf = int(best_params['min_samples_leaf'])"
   ]
  },
  {
   "cell_type": "code",
   "execution_count": null,
   "id": "7380dbc8",
   "metadata": {},
   "outputs": [],
   "source": [
    "# 7) Train Best Model on Train Set\n",
    "\n",
    "X_train_scaled = best_scaler.fit_transform(X_train)\n",
    "X_test_scaled = best_scaler.transform(X_test)\n",
    "\n",
    "best_model = RandomForestRegressor(\n",
    "    n_estimators=best_n_estimators,\n",
    "    max_depth=best_max_depth,\n",
    "    min_samples_split=best_min_samples_split,\n",
    "    min_samples_leaf=best_min_samples_leaf,\n",
    "    random_state=random_seed,\n",
    "    n_jobs=-1,\n",
    ")\n",
    "best_model.fit(X_train_scaled, y_train)"
   ]
  },
  {
   "cell_type": "code",
   "execution_count": null,
   "id": "4fb08ffb",
   "metadata": {},
   "outputs": [],
   "source": [
    "# 8) Evaluate\n",
    "\n",
    "y_pred_train = best_model.predict(X_train_scaled)\n",
    "y_pred_test = best_model.predict(X_test_scaled)\n",
    "\n",
    "r2_train, rmse_train, mae_train, mse_train, mape_train, rmsle_train = calculate_metrics(y_train, y_pred_train)\n",
    "r2_test,  rmse_test,  mae_test,  mse_test,  mape_test,  rmsle_test  = calculate_metrics(y_test,  y_pred_test)\n",
    "\n",
    "print(f\"\\n[Best Scaler] {best_scaler.__class__.__name__}\")\n",
    "print(\"[Best Hyperparameters]\")\n",
    "print(f\"  n_estimators      : {best_n_estimators}\")\n",
    "print(f\"  max_depth         : {best_max_depth}\")\n",
    "print(f\"  min_samples_split : {best_min_samples_split}\")\n",
    "print(f\"  min_samples_leaf  : {best_min_samples_leaf}\")\n",
    "\n",
    "print(\"\\n[Train Metrics]\")\n",
    "print(f\"  R2: {r2_train:.4f} | RMSE: {rmse_train:.4f} | MAE: {mae_train:.4f} | MSE: {mse_train:.4f} | MAPE: {mape_train:.4f} | RMSLE: {rmsle_train:.4f}\")\n",
    "\n",
    "print(\"\\n[Test Metrics]\")\n",
    "print(f\"  R2: {r2_test:.4f}  | RMSE: {rmse_test:.4f}  | MAE: {mae_test:.4f}  | MSE: {mse_test:.4f}  | MAPE: {mape_test:.4f}  | RMSLE: {rmsle_test:.4f}\")"
   ]
  },
  {
   "cell_type": "code",
   "execution_count": null,
   "id": "27d11f77",
   "metadata": {},
   "outputs": [],
   "source": [
    "# 9) Save Model (Change path)\n",
    "\n",
    "model_save_path = r\"C:/Users/hangang/Desktop/best_RF_model_tra_uvvis.pkl\"\n",
    "with open(model_save_path, 'wb') as f:\n",
    "    pickle.dump({\n",
    "        'model': best_model,\n",
    "        'scaler': best_scaler,\n",
    "        'features': X.columns.tolist(),\n",
    "        'random_seed': random_seed,\n",
    "        'best_params': {\n",
    "            'n_estimators': best_n_estimators,\n",
    "            'max_depth': best_max_depth,\n",
    "            'min_samples_split': best_min_samples_split,\n",
    "            'min_samples_leaf': best_min_samples_leaf\n",
    "        }\n",
    "    }, f)\n",
    "\n",
    "print(f\"\\nModel saved to: {model_save_path}\")"
   ]
  },
  {
   "cell_type": "code",
   "execution_count": null,
   "id": "5e687514",
   "metadata": {},
   "outputs": [],
   "source": []
  },
  {
   "cell_type": "code",
   "execution_count": null,
   "id": "86e7a23a",
   "metadata": {},
   "outputs": [],
   "source": []
  },
  {
   "cell_type": "code",
   "execution_count": null,
   "id": "a5b4be6f",
   "metadata": {},
   "outputs": [],
   "source": []
  }
 ],
 "metadata": {
  "kernelspec": {
   "display_name": "Python 3",
   "language": "python",
   "name": "python3"
  },
  "language_info": {
   "codemirror_mode": {
    "name": "ipython",
    "version": 3
   },
   "file_extension": ".py",
   "mimetype": "text/x-python",
   "name": "python",
   "nbconvert_exporter": "python",
   "pygments_lexer": "ipython3",
   "version": "3.6.13"
  }
 },
 "nbformat": 4,
 "nbformat_minor": 5
}
