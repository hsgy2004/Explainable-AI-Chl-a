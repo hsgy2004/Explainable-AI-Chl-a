{
 "cells": [
  {
   "cell_type": "code",
   "execution_count": 17,
   "id": "67ac21c2",
   "metadata": {},
   "outputs": [],
   "source": [
    "import numpy as np\n",
    "import dice_ml\n",
    "from dice_ml import Dice\n",
    "import pandas as pd\n",
    "import xgboost as xgb\n",
    "import pickle\n",
    "import matplotlib.pyplot as plt\n",
    "import seaborn as sns\n",
    "import os"
   ]
  },
  {
   "cell_type": "code",
   "execution_count": null,
   "id": "8142a631",
   "metadata": {},
   "outputs": [],
   "source": [
    "# ✅ 1. Load the saved model\n",
    "model_path = \"C:/Users/hangang/Desktop/best_xgb_model_19_features.pkl\"\n",
    "with open(model_path, 'rb') as f:\n",
    "    model = pickle.load(f)"
   ]
  },
  {
   "cell_type": "code",
   "execution_count": null,
   "id": "dd2ed4d6",
   "metadata": {},
   "outputs": [],
   "source": [
    "# ✅ 2. Load data\n",
    "data_path = \"C:/Users/hangang/Desktop/sci/02. LC-OCD for algal bloom/1_raw data/01_data_full.csv\"\n",
    "data = pd.read_csv(data_path, encoding='utf-8')"
   ]
  },
  {
   "cell_type": "code",
   "execution_count": null,
   "id": "f8ded47b",
   "metadata": {},
   "outputs": [],
   "source": [
    "# ✅ 3. Used variables when model training\n",
    "shap_top_features = ['TN', 'NO3-N', 'BOD', 'BODTOC ratio', 'Molecularity', 'SR', 'TOC', 'WT', 'DO', 'SS',\n",
    "                     'HS-N', 'NH3-N', 'HS', 'COD', 'PO4-P', 'pH', 'S275-295', 'Aromaticity', 'EC']"
   ]
  },
  {
   "cell_type": "code",
   "execution_count": null,
   "id": "76cc2b92",
   "metadata": {},
   "outputs": [],
   "source": [
    "# ✅ 4. Available variables from data\n",
    "available_features = [feature for feature in shap_top_features if feature in data.columns]\n",
    "X = data[available_features]\n",
    "y = data['Chl-a']"
   ]
  },
  {
   "cell_type": "code",
   "execution_count": null,
   "id": "d35f3f89",
   "metadata": {},
   "outputs": [],
   "source": [
    "# ✅ 5. Set the DiCE model\n",
    "full_data = data[available_features + ['Chl-a']]\n",
    "d = dice_ml.Data(dataframe=full_data, continuous_features=available_features, outcome_name='Chl-a')\n",
    "m = dice_ml.Model(model=model, backend=\"sklearn\", model_type='regressor')\n",
    "exp = Dice(d, m)"
   ]
  },
  {
   "cell_type": "code",
   "execution_count": null,
   "id": "feafaba5",
   "metadata": {},
   "outputs": [],
   "source": [
    "# ✅ 6. Generating Counterfactual Scenarios for Chl-a > 12.2 cases\n",
    "cf_results = []\n",
    "\n",
    "desired_value = 12.2\n",
    "high_chla_data = full_data[full_data['Chl-a'] > desired_value].copy()\n",
    "high_chla_X = high_chla_data[available_features]\n",
    "\n",
    "for idx, row in high_chla_X.iterrows():\n",
    "    query_instance = row.to_frame().T\n",
    "    try:\n",
    "        pred = model.predict(query_instance)[0]\n",
    "        query_instance_with_pred = query_instance.copy()\n",
    "        query_instance_with_pred['Chl-a'] = pred\n",
    "\n",
    "        cf = exp.generate_counterfactuals(query_instance, total_CFs=20, desired_range=[0, desired_value])\n",
    "        cf_df = cf.cf_examples_list[0].final_cfs_df\n",
    "\n",
    "        combined = pd.concat([query_instance_with_pred, cf_df], ignore_index=True)\n",
    "        combined['original_index'] = idx\n",
    "        cf_results.append(combined)\n",
    "\n",
    "    except Exception as e:\n",
    "        print(f\"⚠️ error (index {idx}): {e}\")\n",
    "        continue"
   ]
  },
  {
   "cell_type": "code",
   "execution_count": null,
   "id": "7a21fcc3",
   "metadata": {},
   "outputs": [],
   "source": [
    "# ✅ 7. Save results\n",
    "if cf_results:\n",
    "    all_cf_df = pd.concat(cf_results, ignore_index=True)\n",
    "    save_path = \"C:/Users/hangang/Desktop/6_Counterfactual explanation/counterfactual_results_all.csv\"\n",
    "    all_cf_df.to_csv(save_path, index=False, encoding='utf-8-sig')\n",
    "    print(f\"✅ Finish the saving All Counterfactual results: {save_path}\")\n"
   ]
  }
 ],
 "metadata": {
  "kernelspec": {
   "display_name": "Python (myenv)",
   "language": "python",
   "name": "myenv"
  },
  "language_info": {
   "codemirror_mode": {
    "name": "ipython",
    "version": 3
   },
   "file_extension": ".py",
   "mimetype": "text/x-python",
   "name": "python",
   "nbconvert_exporter": "python",
   "pygments_lexer": "ipython3",
   "version": "3.6.13"
  }
 },
 "nbformat": 4,
 "nbformat_minor": 5
}
